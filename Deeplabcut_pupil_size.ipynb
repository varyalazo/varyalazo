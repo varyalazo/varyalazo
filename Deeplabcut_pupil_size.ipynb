{
 "cells": [
  {
   "cell_type": "code",
   "execution_count": 3,
   "id": "83f374ed",
   "metadata": {},
   "outputs": [],
   "source": [
    "import scipy.io\n",
    "import os\n",
    "import numpy as np\n",
    "import math\n",
    "import pandas as pd\n",
    "import matplotlib.pyplot as plt\n",
    "from matplotlib.collections import LineCollection\n",
    "from pathlib import Path\n",
    "from collections import namedtuple\n",
    "import random\n",
    "import numpy.ma as ma\n",
    "import scipy.signal as ssignal"
   ]
  },
  {
   "cell_type": "code",
   "execution_count": 2,
   "id": "64499006",
   "metadata": {},
   "outputs": [],
   "source": [
    "### Thresholds for ethogram buildin\n",
    "LIKELIHOOD_LIM = 0.9\n",
    "def center_model(position, likelihood_threshold = 0.5):\n",
    "    \n",
    "    center_position_model = np.zeros((2,))\n",
    "    count = 0\n",
    "    sum_x = 0\n",
    "    sum_y = 0\n",
    "    for i in range(8):\n",
    "        if position[i,2] > likelihood_threshold:\n",
    "            sum_x += position[i,0]\n",
    "            sum_y += position[i,1]\n",
    "            count+=1\n",
    "    center_position_model[0] = sum_x / count\n",
    "    center_position_model[1] = sum_y / count\n",
    "    \n",
    "    return center_position_model\n",
    "\n",
    "def radius_model(position, center_position, likelihood_threshold, model_id):\n",
    "    \n",
    "    count = 0\n",
    "    sum_rad = 0\n",
    "    \n",
    "    for i in range(8):\n",
    "        if position[i,2] > likelihood_threshold:\n",
    "            sum_rad += np.sqrt((position[i,0]-center_position[0])**2 + (position[i,1]-center_position[1])**2)\n",
    "            count+=1\n",
    "\n",
    "    return sum_rad / count\n",
    "\n",
    "def shape_model(position, likelihood_threshold,model_id):\n",
    "    \n",
    "    '''\n",
    "    Create a model circular model for pupil.\n",
    "    \n",
    "    input -> tracking: numpy array, contains positions along the eye. \n",
    "    Here we use the convetion for labeling: PupilCenter,PupilN,PupilE,PupilS,PupilW,PupilNE,PupilSE,PupilSW,PupilNW.\n",
    "    \n",
    "    output -> shape : tupple, that contains the model for radius and center\n",
    "    \n",
    "    '''\n",
    "    #center_value\n",
    "    center_data = np.zeros((2,))\n",
    "    center_m = center_model(position[1:,:],likelihood_threshold)\n",
    "\n",
    "    if position[0,2] > likelihood_threshold:\n",
    "        center_data[0] = position[0,0]\n",
    "        center_data[1] = position[0,1]\n",
    "    else:\n",
    "        center_data = center_m\n",
    "        \n",
    "    \n",
    "    radius_1 = radius_model(position[1:,:], center_data, likelihood_threshold,model_id)\n",
    "    radius_2 = radius_model(position[1:,:], center_m, likelihood_threshold,model_id)\n",
    "\n",
    "    shape = namedtuple('shape', ['center','center_model','radius'])\n",
    "    \n",
    "    return shape(center_data , center_m, radius_1)\n",
    "\n",
    "def pupil_model(tracking = None, model_id = 0, likelihood_threshold = 0.8):\n",
    "    \n",
    "    '''\n",
    "    Create a circular model for pupil shape, dilatation. \n",
    "    Different version refer to the data that will be use to create the model.\n",
    "    \n",
    "    \n",
    "    input -> tracking : tracking of a 9 positions of the eye\n",
    "             model_id: version of model to create the pupil:\n",
    "             0 : mean over radius positions from center\n",
    "             1 : mean over diameter positions\n",
    "             \n",
    "    \n",
    "    output -> pupil_model: model of the mouse movement in time, that conteins center position and radius.\n",
    "            center position is recomputed by using the tracking of the 8 points sorrounding the pupil\n",
    "    \n",
    "    '''\n",
    "    model = [shape_model(tracking[:,i,:],model_id,likelihood_threshold) for i in range(tracking.shape[1])]\n",
    "        \n",
    "    pupil_model = namedtuple('pupil_model', ['shape_model'])\n",
    "       \n",
    "    return pupil_model(model)\n",
    "\n",
    "\n",
    "### Createa video with the model\n",
    "NTIME = 5000\n",
    "def create_pupil_dilatation_video(input_video_file, output_video_file,model1):\n",
    "    \n",
    "    cap = cv2.VideoCapture(str(input_video_name))\n",
    "    #cap.set(cv2.CAP_PROP_POS_FRAMES, )\n",
    "    w = int(cap.get(cv2.CAP_PROP_FRAME_WIDTH))\n",
    "    h = int(cap.get(cv2.CAP_PROP_FRAME_HEIGHT))\n",
    "    length = int(cap.get(cv2.CAP_PROP_FRAME_COUNT))\n",
    "    \n",
    "    #fourcc = cv.VideoWriter_fourcc('m', 'p', '4', 'v')\n",
    "    #writer = cv.VideoWriter(file_path, fourcc, fps, (w, h))\n",
    "    output = cv2.VideoWriter(str(output_video),cv2.VideoWriter_fourcc(*'MJPG'),20,(w,h))\n",
    "\n",
    "    center = [model1.shape_model[frame_n].center.astype(int) for frame_n in range(len(model1.shape_model))]\n",
    "\n",
    "    offset = length - len(center)\n",
    "\n",
    "    for frame_n in range(length-offset):\n",
    "\n",
    "        r , frame = cap.read()    \n",
    "        if frame_n > offset:\n",
    "            center1 = model1.shape_model[frame_n-offset].center.astype(int)\n",
    "            radius1 = model1.shape_model[frame_n-offset].radius.astype(int) \n",
    "            cv2.circle(frame, tuple(center1),radius1, color = (255,0,0), thickness = 2)\n",
    "    \n",
    "\n",
    "        output.write(frame)\n",
    "    \n",
    "    return"
   ]
  },
  {
   "cell_type": "code",
   "execution_count": 11,
   "id": "2d5e7d6d",
   "metadata": {},
   "outputs": [],
   "source": [
    "## load tracking information\n",
    "tracking_path = Path(r'C:\\Users\\Barbara\\Documents\\Radboud uni\\Internship\\Deeplabcut\\Model 2')\n",
    "\n",
    "tracking_path.exists()\n",
    "input_file_name = '0-used for model- 2021-Dec-13_21-08-09_picamera_DLC_resnet50_Pupil_size_Test_Varvara_2jul4shuffle1_800000.csv'\n",
    "\n",
    "tracking_DFrame = pd.read_csv(tracking_path / input_file_name, low_memory = False)\n",
    "\n",
    "tracking_path =r'C:\\Users\\Barbara\\Documents\\Radboud uni\\Internship\\Deeplabcut\\Model 2'\n",
    "input_video_name = tracking_path + r'C:\\Users\\Barbara\\Documents\\Radboud uni\\Internship\\Deeplabcut\\Model 2'\n",
    "output_video = tracking_path + 'tracking_example.mp4'\n",
    "\n",
    "figures_path = r'C:\\Users\\Barbara\\Documents\\Radboud uni\\Internship\\Deeplabcut\\Model 2\\Figures'\n"
   ]
  },
  {
   "cell_type": "code",
   "execution_count": 7,
   "id": "3c3cf63e",
   "metadata": {},
   "outputs": [
    {
     "name": "stdout",
     "output_type": "stream",
     "text": [
      "['EyeN', 'EyeS', 'EyeW', 'EyeE', 'PupilCenter', 'PupilN', 'PupilE', 'PupilS', 'PupilW', 'PupilNE', 'PupilSE', 'PupilSW', 'PupilNW']\n",
      "['x', 'y', 'likelihood']\n"
     ]
    }
   ],
   "source": [
    "## get body parts from tracking fil\n",
    "eye_parts = [tracking_DFrame.iloc[0][i*3+1] for i in range(int(len(tracking_DFrame.iloc[0])/3))]\n",
    "eye_part_structure = [tracking_DFrame.iloc[1][i+1] for i in range(3)]\n",
    "\n",
    "print(eye_parts)\n",
    "print(eye_part_structure)\n",
    "tracking_DFrame = tracking_DFrame.iloc[0:]"
   ]
  },
  {
   "cell_type": "code",
   "execution_count": 8,
   "id": "78e34274",
   "metadata": {},
   "outputs": [
    {
     "name": "stdout",
     "output_type": "stream",
     "text": [
      "(65129, 40)\n"
     ]
    }
   ],
   "source": [
    "# convert tracking pandas to numpy\n",
    "tracking_DFrame = tracking_DFrame.iloc[2:]\n",
    "tracking_DFrame = tracking_DFrame.astype(float)\n",
    "tracking_data = tracking_DFrame.to_numpy()\n",
    "print(tracking_data.shape)"
   ]
  },
  {
   "cell_type": "code",
   "execution_count": 9,
   "id": "83f1ca73",
   "metadata": {},
   "outputs": [
    {
     "name": "stdout",
     "output_type": "stream",
     "text": [
      "(65129, 27)\n",
      "(9, 65129, 3)\n"
     ]
    }
   ],
   "source": [
    "eye_tracking = tracking_data[:,1+4*3:];\n",
    "print(eye_tracking.shape)\n",
    "tracking = np.array([eye_tracking[:,[i*3,i*3+1,i*3+2]] for i in range(9)])\n",
    "print(tracking.shape)"
   ]
  },
  {
   "cell_type": "code",
   "execution_count": 12,
   "id": "6d06e53e",
   "metadata": {},
   "outputs": [
    {
     "name": "stdout",
     "output_type": "stream",
     "text": [
      "C:\\Users\\Barbara\\Documents\\Radboud uni\\Internship\\Deeplabcut\\Model 2C:\\Users\\Barbara\\Documents\\Radboud uni\\Internship\\Deeplabcut\\Model 2\n",
      "C:\\Users\\Barbara\\Documents\\Radboud uni\\Internship\\Deeplabcut\\Model 2tracking_example.mp4\n"
     ]
    }
   ],
   "source": [
    "pupil_model_radius = pupil_model(tracking)\n",
    "print(input_video_name)\n",
    "print(output_video)\n",
    "#create_pupil_dilatation_video(input_video_name, output_video,pupil_model_radius)"
   ]
  },
  {
   "cell_type": "code",
   "execution_count": 13,
   "id": "34391779",
   "metadata": {},
   "outputs": [],
   "source": [
    "center1 = [pupil_model_radius.shape_model[frame_n].center for frame_n in range(len(pupil_model_radius.shape_model))]\n",
    "radius = [pupil_model_radius.shape_model[frame_n].radius for frame_n in range(len(pupil_model_radius.shape_model))]"
   ]
  },
  {
   "cell_type": "code",
   "execution_count": 14,
   "id": "e10f86e9",
   "metadata": {},
   "outputs": [
    {
     "data": {
      "image/png": "[encoded data removed]",
      "text/plain": [
       "<Figure size 2000x500 with 1 Axes>"
      ]
     },
     "metadata": {},
     "output_type": "display_data"
    }
   ],
   "source": [
    "figure, axes = plt.subplots()\n",
    "time = np.arange(0,len(radius))\n",
    "smothed_radius = ssignal.medfilt(radius,9)\n",
    "\n",
    "axes.plot(time,radius, c = 'k')\n",
    "#axes.plot(time,smothed_radius,c = 'b')\n",
    "\n",
    "axes.set_xlim([0,len(radius)])\n",
    "axes.set_ylim([0,100])\n",
    "\n",
    "axes.set_xlabel('Time (s)', fontsize = 20)\n",
    "axes.set_ylabel('Radius (pixels)', fontsize = 20)\n",
    "\n",
    "axes.legend(['Radius','Filtered Radius'],fontsize = 15)\n",
    "figure.set_size_inches([20,5])\n"
   ]
  },
  {
   "cell_type": "code",
   "execution_count": null,
   "id": "5c4313f6",
   "metadata": {},
   "outputs": [],
   "source": []
  },
  {
   "cell_type": "markdown",
   "id": "3d64717d",
   "metadata": {},
   "source": [
    "To create NPY files of radius"
   ]
  },
  {
   "cell_type": "code",
   "execution_count": 27,
   "id": "519fe372",
   "metadata": {},
   "outputs": [
    {
     "data": {
      "text/plain": [
       "['0-used for model- 2021-Dec-13_21-08-09_picamera_DLC_resnet50_Pupil_size_Test_Varvara_2jul4shuffle1_800000.csv',\n",
       " '1- 2021-Dec-12_18-50-53_picamera_DLC_resnet50_Pupil_size_Test_Varvara_2jul4shuffle1_800000.csv',\n",
       " '2- 2021-Dec-12_21-17-32_picamera(weird view)_DLC_resnet50_Pupil_size_Test_Varvara_2jul4shuffle1_800000.csv',\n",
       " '3- 2021-Dec-12_20-35-47_picamera_DLC_resnet50_Pupil_size_Test_Varvara_2jul4shuffle1_800000.csv']"
      ]
     },
     "execution_count": 27,
     "metadata": {},
     "output_type": "execute_result"
    }
   ],
   "source": [
    "# Set the directory containing the CSV files\n",
    "\n",
    "dir_path ='C:/Users/Barbara/Documents/Radboud uni/Internship/Deeplabcut/Model 2/'\n",
    "\n",
    "# Get a list of all CSV files in the directory\n",
    "csv_files = sorted([f for f in os.listdir(dir_path) if f.endswith(\".csv\")])\n",
    "(csv_files)"
   ]
  },
  {
   "cell_type": "code",
   "execution_count": 33,
   "id": "9bfa9264",
   "metadata": {},
   "outputs": [
    {
     "name": "stderr",
     "output_type": "stream",
     "text": [
      "C:\\Users\\Barbara\\AppData\\Local\\Temp\\ipykernel_11364\\1963640134.py:5: DtypeWarning: Columns (0,1,2,3,4,5,6,7,8,9,10,11,12,13,14,15,16,17,18,19,20,21,22,23,24,25,26,27,28,29,30,31,32,33,34,35,36,37,38,39) have mixed types. Specify dtype option on import or set low_memory=False.\n",
      "  tracking_DFrame = pd.read_csv(tracking_path / csv_files[i])\n"
     ]
    },
    {
     "name": "stdout",
     "output_type": "stream",
     "text": [
      "['x', 'y', 'likelihood']\n",
      "(65129, 40)\n",
      "(9, 65129, 3)\n"
     ]
    },
    {
     "name": "stderr",
     "output_type": "stream",
     "text": [
      "C:\\Users\\Barbara\\AppData\\Local\\Temp\\ipykernel_11364\\1963640134.py:5: DtypeWarning: Columns (0,1,2,3,4,5,6,7,8,9,10,11,12,13,14,15,16,17,18,19,20,21,22,23,24,25,26,27,28,29,30,31,32,33,34,35,36,37,38,39) have mixed types. Specify dtype option on import or set low_memory=False.\n",
      "  tracking_DFrame = pd.read_csv(tracking_path / csv_files[i])\n"
     ]
    },
    {
     "name": "stdout",
     "output_type": "stream",
     "text": [
      "['x', 'y', 'likelihood']\n",
      "(76375, 40)\n",
      "(9, 76375, 3)\n"
     ]
    },
    {
     "name": "stderr",
     "output_type": "stream",
     "text": [
      "C:\\Users\\Barbara\\AppData\\Local\\Temp\\ipykernel_11364\\1963640134.py:5: DtypeWarning: Columns (0,1,2,3,4,5,6,7,8,9,10,11,12,13,14,15,16,17,18,19,20,21,22,23,24,25,26,27,28,29,30,31,32,33,34,35,36,37,38,39) have mixed types. Specify dtype option on import or set low_memory=False.\n",
      "  tracking_DFrame = pd.read_csv(tracking_path / csv_files[i])\n"
     ]
    },
    {
     "name": "stdout",
     "output_type": "stream",
     "text": [
      "['x', 'y', 'likelihood']\n",
      "(30236, 40)\n",
      "(9, 30236, 3)\n"
     ]
    },
    {
     "name": "stderr",
     "output_type": "stream",
     "text": [
      "C:\\Users\\Barbara\\AppData\\Local\\Temp\\ipykernel_11364\\1963640134.py:5: DtypeWarning: Columns (0,1,2,3,4,5,6,7,8,9,10,11,12,13,14,15,16,17,18,19,20,21,22,23,24,25,26,27,28,29,30,31,32,33,34,35,36,37,38,39) have mixed types. Specify dtype option on import or set low_memory=False.\n",
      "  tracking_DFrame = pd.read_csv(tracking_path / csv_files[i])\n"
     ]
    },
    {
     "name": "stdout",
     "output_type": "stream",
     "text": [
      "['x', 'y', 'likelihood']\n",
      "(39711, 40)\n",
      "(9, 39711, 3)\n"
     ]
    }
   ],
   "source": [
    "output_path = 'C:/Users/Barbara/Documents/Radboud uni/Internship/Deeplabcut/Model 2/Output/'\n",
    "tracking_path = Path(dir_path)\n",
    "\n",
    "for i in range(len(csv_files)):\n",
    "    tracking_DFrame = pd.read_csv(tracking_path / csv_files[i])\n",
    "    ## get body parts from tracking fil\n",
    "    eye_parts = [tracking_DFrame.iloc[0][i*3+1] for i in range(int(len(tracking_DFrame.iloc[0])/3))]\n",
    "    eye_part_structure = [tracking_DFrame.iloc[1][i+1] for i in range(3)]\n",
    "    \n",
    "    print(eye_part_structure)\n",
    "    tracking_DFrame = tracking_DFrame.iloc[0:]\n",
    "    # convert tracking pandas to numpy\n",
    "    tracking_DFrame = tracking_DFrame.iloc[2:]\n",
    "    tracking_DFrame = tracking_DFrame.astype(float)\n",
    "    tracking_data = tracking_DFrame.to_numpy()\n",
    "    print(tracking_data.shape)\n",
    "    eye_tracking = tracking_data[:,1+4*3:];\n",
    "    tracking = np.array([eye_tracking[:,[i*3,i*3+1,i*3+2]] for i in range(9)])\n",
    "    print(tracking.shape)\n",
    "    pupil_model_radius = pupil_model(tracking)\n",
    "    center1 = np.array([pupil_model_radius.shape_model[frame_n].center for frame_n in range(len(pupil_model_radius.shape_model))])\n",
    "    radius = np.array([pupil_model_radius.shape_model[frame_n].radius for frame_n in range(len(pupil_model_radius.shape_model))])\n",
    "    \n",
    "    radius_name = output_path + csv_files[i][0:50] + '_radius.npy'\n",
    "    #center_name = output_path + input_file_name_list[i][0:50] + '_center.npy'\n",
    "    \n",
    "    np.save(radius_name,radius)\n",
    "    #np.save(center_name,center1)"
   ]
  },
  {
   "cell_type": "code",
   "execution_count": null,
   "id": "9296706b",
   "metadata": {},
   "outputs": [],
   "source": []
  }
 ],
 "metadata": {
  "kernelspec": {
   "display_name": "Python 3 (ipykernel)",
   "language": "python",
   "name": "python3"
  },
  "language_info": {
   "codemirror_mode": {
    "name": "ipython",
    "version": 3
   },
   "file_extension": ".py",
   "mimetype": "text/x-python",
   "name": "python",
   "nbconvert_exporter": "python",
   "pygments_lexer": "ipython3",
   "version": "3.9.13"
  }
 },
 "nbformat": 4,
 "nbformat_minor": 5
}
